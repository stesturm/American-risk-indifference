{
 "cells": [
  {
   "cell_type": "code",
   "execution_count": 2,
   "id": "823fc550-6ac7-4845-bca8-12d3519c6cc2",
   "metadata": {},
   "outputs": [
    {
     "name": "stdout",
     "output_type": "stream",
     "text": [
      "TensorFlow version: 2.10.0\n"
     ]
    }
   ],
   "source": [
    "#https://www.tensorflow.org/tutorials/quickstart/advanced \n",
    "\n",
    "import tensorflow as tf\n",
    "\n",
    "print(\"TensorFlow version:\", tf.__version__)\n",
    "\n",
    "from tensorflow.keras.layers import Dense, Flatten\n",
    "from tensorflow.keras import Model\n",
    "\n",
    "import tensorflow.keras as keras\n",
    "\n",
    "from tabulate import tabulate\n",
    "import numpy as np\n",
    "from scipy.stats import norm\n",
    "import matplotlib.pyplot as plt\n",
    "\n",
    "#import tensorflow.keras.backend as K"
   ]
  },
  {
   "cell_type": "code",
   "execution_count": 3,
   "id": "13aa6ca1-ed4e-4402-980b-28c788c2d14f",
   "metadata": {},
   "outputs": [
    {
     "name": "stdout",
     "output_type": "stream",
     "text": [
      "Strike = 80 Buyer Price =  0.11347411572933197\n",
      "Strike = 85 Buyer Price =  0.41112855076789856\n",
      "Strike = 90 Buyer Price =  1.6893904507160187\n",
      "Strike = 95 Buyer Price =  1.1179023087024689\n",
      "Strike = 100 Buyer Price =  2.7797451317310333\n",
      "Strike = 105 Buyer Price =  5.702035218477249\n",
      "Strike = 110 Buyer Price =  10.836427956819534\n",
      "Strike = 115 Buyer Price =  15.763679772615433\n",
      "Strike = 80 Seller Price =  0.28178855776786804\n",
      "Strike = 85 Seller Price =  0.32752981781959534\n",
      "Strike = 90 Seller Price =  0.6974842250347137\n",
      "Strike = 95 Seller Price =  2.0171076953411102\n",
      "Strike = 100 Seller Price =  5.090231627225876\n",
      "Strike = 105 Seller Price =  7.410900801420212\n",
      "Strike = 110 Seller Price =  10.598956793546677\n",
      "Strike = 115 Seller Price =  16.19406482577324\n"
     ]
    }
   ],
   "source": [
    "strikes = [80, 85, 90, 95, 100, 105, 110, 115]\n",
    "Price_list = []\n",
    "Strike_list = []\n",
    "for K in strikes:\n",
    "    BSDE = np.loadtxt(\"Buy-BSDE_predictions_\"+str(0)+\"K_\"+str(K)+\".csv\", delimiter = \",\", dtype = 'float32') \n",
    "    BSDE0payoff = np.loadtxt(\"BSDE0predictions_\"+str(0)+\"_y.csv\", delimiter = \",\") \n",
    "    Price = BSDE0payoff - BSDE\n",
    "    print('Strike =', K, 'Buyer Price = ', np.mean(Price))\n",
    "    Strike_list.append(K)\n",
    "    Price_list.append(np.mean(Price))\n",
    "\n",
    "np.savetxt(\"Euro_Buyer_prices.csv\", Price_list, delimiter = \",\") \n",
    "\n",
    "\n",
    "Price_list1 = []\n",
    "Strike_list = []\n",
    "for K in strikes:\n",
    "    BSDE = np.loadtxt(\"Sell-BSDE_predictions_\"+str(0)+\"K_\"+str(K)+\".csv\", delimiter = \",\", dtype = 'float32') \n",
    "    BSDE0payoff = np.loadtxt(\"BSDE0predictions_\"+str(0)+\"_y.csv\", delimiter = \",\") \n",
    "    Price = BSDE - BSDE0payoff\n",
    "    print('Strike =', K, 'Seller Price = ', np.mean(Price))\n",
    "    Strike_list.append(K)\n",
    "    Price_list1.append(np.mean(Price))\n",
    "\n",
    "np.savetxt(\"Euro_Seller_prices.csv\", Price_list1, delimiter = \",\") "
   ]
  },
  {
   "cell_type": "code",
   "execution_count": null,
   "id": "d754ebb8-29c0-41d4-b572-3e1d8561ac84",
   "metadata": {},
   "outputs": [],
   "source": []
  },
  {
   "cell_type": "code",
   "execution_count": null,
   "id": "45d88b96-075d-446a-b5e3-242a1c7ccf6e",
   "metadata": {},
   "outputs": [],
   "source": []
  }
 ],
 "metadata": {
  "kernelspec": {
   "display_name": "Python 3 (ipykernel)",
   "language": "python",
   "name": "python3"
  },
  "language_info": {
   "codemirror_mode": {
    "name": "ipython",
    "version": 3
   },
   "file_extension": ".py",
   "mimetype": "text/x-python",
   "name": "python",
   "nbconvert_exporter": "python",
   "pygments_lexer": "ipython3",
   "version": "3.10.9"
  }
 },
 "nbformat": 4,
 "nbformat_minor": 5
}
